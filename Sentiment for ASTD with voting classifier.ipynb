{
 "cells": [
  {
   "cell_type": "code",
   "execution_count": 1,
   "metadata": {
    "collapsed": true
   },
   "outputs": [],
   "source": [
    "import nltk\n",
    "import numpy as np\n",
    "import scipy\n",
    "import sklearn \n",
    "from sklearn.feature_extraction.text import CountVectorizer,TfidfVectorizer\n",
    "from sklearn_deltatfidf import DeltaTfidfVectorizer\n",
    "import pandas as pd\n",
    "from sklearn.linear_model import LogisticRegressionCV, LogisticRegression, SGDClassifier\n",
    "from sklearn.svm import SVC, LinearSVC\n",
    "from sklearn.naive_bayes import MultinomialNB, BernoulliNB\n",
    "from sklearn.model_selection import train_test_split\n",
    "from sklearn.ensemble import RandomForestClassifier, VotingClassifier"
   ]
  },
  {
   "cell_type": "code",
   "execution_count": 2,
   "metadata": {
    "collapsed": true
   },
   "outputs": [],
   "source": [
    "from os import listdir\n",
    "from os.path import isfile, join\n",
    "from LexiconVectorizer import LexiconVectorizer"
   ]
  },
  {
   "cell_type": "code",
   "execution_count": 3,
   "metadata": {
    "collapsed": true
   },
   "outputs": [],
   "source": [
    "import random\n",
    "from math import ceil, floor\n",
    "from nltk.classify import ClassifierI\n",
    "from statistics import mode, median, mean"
   ]
  },
  {
   "cell_type": "code",
   "execution_count": 4,
   "metadata": {
    "collapsed": true
   },
   "outputs": [],
   "source": [
    "class VoteClassifier(ClassifierI):\n",
    "    def __init__(self, *classifiers):\n",
    "        self._classifiers = classifiers\n",
    "\n",
    "    def classify(self, features):\n",
    "        votes = []\n",
    "        for c in self._classifiers:\n",
    "            v = c.predict(features)[0]\n",
    "            votes.append(v)\n",
    "        try:\n",
    "            m = mode(votes)\n",
    "        except:\n",
    "            m = ceil(median(votes))\n",
    "        return m\n",
    "\n",
    "    def confidence(self, features):\n",
    "        votes = []\n",
    "        for c in self._classifiers:\n",
    "            v = c.predict(features)[0]\n",
    "            votes.append(v)\n",
    "\n",
    "        try:\n",
    "            m = mode(votes)\n",
    "        except:\n",
    "            m = ceil(median(votes))\n",
    "        choice_votes = votes.count(m)\n",
    "        conf = choice_votes / len(votes)\n",
    "        return conf\n"
   ]
  },
  {
   "cell_type": "code",
   "execution_count": 5,
   "metadata": {
    "collapsed": true
   },
   "outputs": [],
   "source": [
    "ASTDPath = '/home/abdarhman/Documents/ArSent/ASTD/data/Tweets.txt'\n",
    "tweets = [l for l in open(ASTDPath,encoding='utf-8-sig').readlines() if isfile(ASTDPath)]\n",
    "#tweets = [(l.split('\\t')[0].rstrip(), l.split('\\t')[1].rstrip()) for l in open(ASTDPath,encoding='utf-8-sig').readlines() if isfile(ASTDPath)]\n",
    "sent = [t.split('\\t')[1].rstrip() for t in tweets]\n",
    "tweets = [t.split('\\t')[0].rstrip() for t in tweets]\n",
    "sent = [0 if s == 'POS' else 1 if s == 'NEG' else 2 if s == 'OBJ' else 3 if s == 'NEUTRAL' else s for s in sent]\n",
    "X_Train, X_Test, Y_Train, Y_Test = train_test_split(tweets,sent, test_size = 0.1)"
   ]
  },
  {
   "cell_type": "code",
   "execution_count": 6,
   "metadata": {},
   "outputs": [
    {
     "name": "stdout",
     "output_type": "stream",
     "text": [
      "1001 9005 1001 9005\n"
     ]
    }
   ],
   "source": [
    "print(len(X_Test), len(X_Train), len(Y_Test), len(Y_Train))"
   ]
  },
  {
   "cell_type": "code",
   "execution_count": 7,
   "metadata": {
    "collapsed": true,
    "scrolled": false
   },
   "outputs": [],
   "source": [
    "LexV = LexiconVectorizer(lexfile= 'ALL_lex.csv', polarity= True, weightedcount=True)\n",
    "DeltaTFV = DeltaTfidfVectorizer()\n",
    "TFiDFV = TfidfVectorizer()\n",
    "\n",
    "LexV = LexV.fit(X_Train)\n",
    "DeltaTFV = DeltaTFV.fit(X_Train, Y_Train)\n",
    "TFiDFV = TFiDFV.fit(X_Train)\n",
    "\n",
    "V = DeltaTFV.transform(X_Train)\n",
    "V_T = DeltaTFV.transform(X_Test)"
   ]
  },
  {
   "cell_type": "code",
   "execution_count": 8,
   "metadata": {},
   "outputs": [
    {
     "data": {
      "text/plain": [
       "SVC(C=1.0, cache_size=200, class_weight=None, coef0=0.0,\n",
       "  decision_function_shape=None, degree=3, gamma='auto', kernel='rbf',\n",
       "  max_iter=-1, probability=False, random_state=None, shrinking=True,\n",
       "  tol=0.001, verbose=False)"
      ]
     },
     "execution_count": 8,
     "metadata": {},
     "output_type": "execute_result"
    }
   ],
   "source": [
    "LSVC = LinearSVC()\n",
    "LSVC.fit(V,Y_Train)\n",
    "\n",
    "BNB = BernoulliNB()\n",
    "BNB.fit(V,Y_Train)\n",
    "\n",
    "SGD = SGDClassifier(n_iter= 500)\n",
    "SGD.fit(V,Y_Train)\n",
    "\n",
    "LR = LogisticRegression()\n",
    "LR.fit(V, Y_Train)\n",
    "\n",
    "LRCV = LogisticRegressionCV()\n",
    "LRCV.fit(V, Y_Train)\n",
    "\n",
    "SVC_Classifier = SVC()\n",
    "SVC_Classifier.fit(V, Y_Train)"
   ]
  },
  {
   "cell_type": "code",
   "execution_count": 9,
   "metadata": {},
   "outputs": [
    {
     "name": "stdout",
     "output_type": "stream",
     "text": [
      "<class 'sklearn.svm.classes.LinearSVC'> 's  Test Accuracy =  0.6563436563436563 ,   Training Accuracy =  0.998223209328151\n",
      "<class 'sklearn.naive_bayes.BernoulliNB'> 's  Test Accuracy =  0.6833166833166833 ,   Training Accuracy =  0.7293725707940033\n",
      "<class 'sklearn.linear_model.stochastic_gradient.SGDClassifier'> 's  Test Accuracy =  0.6623376623376623 ,   Training Accuracy =  0.995446973903387\n",
      "<class 'sklearn.linear_model.logistic.LogisticRegression'> 's  Test Accuracy =  0.7022977022977023 ,   Training Accuracy =  0.9623542476401998\n",
      "<class 'sklearn.linear_model.logistic.LogisticRegressionCV'> 's  Test Accuracy =  0.6993006993006993 ,   Training Accuracy =  0.8817323709050527\n",
      "<class 'sklearn.svm.classes.SVC'> 's  Test Accuracy =  0.6823176823176823 ,   Training Accuracy =  0.6671848972792893\n"
     ]
    }
   ],
   "source": [
    "classifiers = [LSVC, BNB, SGD, LR, LRCV, SVC_Classifier]\n",
    "\n",
    "for clas in classifiers:\n",
    "    C = 0\n",
    "    C1 = 0\n",
    "    for i in range(0,len(Y_Test)):\n",
    "        if clas.predict(V_T[i])[0] == Y_Test[i]:\n",
    "            C = C + 1\n",
    "    for i in range(0,len(Y_Train)):\n",
    "        if clas.predict(V[i])[0] == Y_Train[i]:\n",
    "            C1 = C1 + 1\n",
    "    print (type(clas),'\\'s ', 'Test Accuracy = ', C/len(Y_Test), ',   Training Accuracy = ', C1/len(Y_Train))"
   ]
  },
  {
   "cell_type": "code",
   "execution_count": 10,
   "metadata": {
    "scrolled": false
   },
   "outputs": [
    {
     "name": "stdout",
     "output_type": "stream",
     "text": [
      "Voting Classifier Accuracy:  0.7012987012987013\n",
      "Average Global Confidence:  91.90809190809198\n"
     ]
    }
   ],
   "source": [
    "#get a voted prediction along with the confidence\n",
    "VotingClassifier = VoteClassifier(LSVC, BNB, SGD, LR, LRCV, SVC_Classifier)\n",
    "TC = 0\n",
    "AC = 0\n",
    "for i in range(0,len(Y_Test)):\n",
    "    #print(str(i), \"Classification:\", VotingClassifier.classify(V_T[i]), \"Confidence: \",VotingClassifier.confidence(V_T[i])*100, '%, Accuracy', (VotingClassifier.classify(V_T[i]) == Y_Test[i]))\n",
    "    AC = AC + ( VotingClassifier.confidence(V_T[i]) * 100 )\n",
    "    if VotingClassifier.classify(V_T[i]) == Y_Test[i]:\n",
    "        TC = TC + 1\n",
    "        \n",
    "print('Voting Classifier Accuracy: ', TC/len(Y_Test))\n",
    "print('Average Global Confidence: ', AC/len(Y_Test))"
   ]
  },
  {
   "cell_type": "code",
   "execution_count": null,
   "metadata": {
    "collapsed": true
   },
   "outputs": [],
   "source": []
  }
 ],
 "metadata": {
  "kernelspec": {
   "display_name": "Python 3",
   "language": "python",
   "name": "python3"
  },
  "language_info": {
   "codemirror_mode": {
    "name": "ipython",
    "version": 3
   },
   "file_extension": ".py",
   "mimetype": "text/x-python",
   "name": "python",
   "nbconvert_exporter": "python",
   "pygments_lexer": "ipython3",
   "version": "3.6.1"
  }
 },
 "nbformat": 4,
 "nbformat_minor": 2
}
